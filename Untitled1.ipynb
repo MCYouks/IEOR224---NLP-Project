{
 "cells": [
  {
   "cell_type": "code",
   "execution_count": null,
   "metadata": {
    "collapsed": true
   },
   "outputs": [],
   "source": [
    "import pandas as pd\n",
    "\n",
    "df = pd.read_csv('path/to/csv.csv', delimiter='\\t')\n",
    "# this line creates a new column, which is a Pandas series.\n",
    "new_column = df['AUTOWOGEN'] + 1\n",
    "# we then add the series to the dataframe, which holds our parsed CSV file\n",
    "df['NewColumn'] = new_column\n",
    "# save the dataframe to CSV\n",
    "df.to_csv('path/to/file.csv', sep='\\t')"
   ]
  }
 ],
 "metadata": {
  "kernelspec": {
   "display_name": "Python 3",
   "language": "python",
   "name": "python3"
  },
  "language_info": {
   "codemirror_mode": {
    "name": "ipython",
    "version": 3
   },
   "file_extension": ".py",
   "mimetype": "text/x-python",
   "name": "python",
   "nbconvert_exporter": "python",
   "pygments_lexer": "ipython3",
   "version": "3.6.1"
  }
 },
 "nbformat": 4,
 "nbformat_minor": 2
}
